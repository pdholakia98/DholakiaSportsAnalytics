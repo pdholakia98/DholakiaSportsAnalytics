{
 "cells": [
  {
   "cell_type": "markdown",
   "id": "nervous-spain",
   "metadata": {},
   "source": [
    "# \"Data Science Progress: Blog 1\"\n",
    "> \"As I continue to teach myself Python and data science, I'm working to document my progess. This will be a way for me to track some of the things I'm working on, obstacles I'm looking to overcome, and setting future goals.\"\n",
    "\n",
    "- toc: false\n",
    "- branch: master\n",
    "- badges: true\n",
    "- comments: true\n",
    "- categories: [fastpages, jupyter, python]\n",
    "- hide: false\n",
    "- search_exclude: true\n",
    "- author: Parth Dholakia"
   ]
  },
  {
   "cell_type": "markdown",
   "id": "leading-carrier",
   "metadata": {},
   "source": [
    "Exactly two months ago, I began the journey of learning a new skill while also pursuing creative and fun ways of exploring sports. In order to do so, I purchased the course \"Automating the Boring Stuff with Python\" and began my journey.\n",
    "\n",
    "With a background in Economics, Finance and extensive professional experience as a management consultant, my basic knowledge of SQL was not enough to prepare me for what I was getting into. I felt slightly overwhelmed with not only learning a new language, but also not knowing what I don't know, which I quickly realized was a lot. \n",
    "\n",
    "This hit me like a ton of bricks when I began the process of just installing these programs and packages onto my system, something that I'm sure most computer scientists take for granted. Learning how to build and navigate directories using my computer's terminal took me multiple days, and it felt like just getting to the Python part itself was a process in itself. I don't think anyone really talks about the preparation needed and the installs it takes just to run the first couple lines of code successfully. In addition, knowing what IDE (Integrated Development Environment) to use was also an overwhelming process. There's a ton of research and discussion on the internet, and I think it mostly comes down to personal preference for most people. As I started looking up tutorials and following courses, I jumped from IDLE to Sublime and finally landed on using JupyterLab - simply because I can follow along with my code in an iterative process to make sure it's working as I build. "
   ]
  },
  {
   "cell_type": "markdown",
   "id": "immune-bumper",
   "metadata": {},
   "source": [
    "As I started getting into learning Python itself, I mostly viewed it as a way for me to speed up a variety of Excel functions that I do on a daily basis for work - but the engineering community has built some incredible applications with this tool. From pulling down data from Twitter, live updating stock price in an analysis, building games and blockchain, Python is a flexible tool that allows for a variety of functions. This is augmented by the vast community of people online that support this as well. Coming from a non-coding background, I was astounded (and extremely grateful) for the number of people that would respond to my noob questions on StackOverflow, in a short amount of time. In addition, the concept of open source code is something that fascinates me. Why would anyone put something out on the internet for free when they could be making millions selling such useful software? The culture of upleveling everyone around you to use new and innovative tech is incredible and not something that's seen in every industry. \n",
    "\n",
    "Two months into this journey, what I'm mostly doing is reading about the projects that people are doing and trying to imitate them on my own. At some point in time, I'm hoping to leverage these learnings to building models and analysis of my own and post them up on this blog. \n",
    "\n",
    "<u>Things that were initially challenging for me:</u>\n",
    "* Basic syntax and how to do things (create columns in a dataframe, filter down by specific rows, merge dataframes, etc.)\n",
    "* Understanding how to manipulate data types in order to run analysis\n",
    "* For loops and iterating through Pandas dataframes\n",
    "* Creating classes and functions\n",
    "* Understanding GitHub - it's awesome and a great place but slightly hard to figure out for first time users\n",
    "\n",
    "<u>Things I've accomplished:</u>\n",
    "* Build my own website\n",
    "* Conduct analysis, visualize data, and post multiple blogs on my website\n",
    "* Use a Twitter profile to share my analysis and engage with the community\n",
    "\n",
    "<u>Future goals:</u>\n",
    "* Understanding the theory of Python (how does Python inherently deal with certain data and why)\n",
    "* Learning and building different machine learning models to make sports predictions (Linear Regression, K-means clustering, Naive Bayes, etc.)\n",
    "* Learning more about data science and sports analytics to understand what's relevant in this field\n",
    "* Learn how to better communicate and visualize the results of my work\n",
    "\n",
    "I'm looking forward to taking another look at my progress over the next couple months to see how much I've improved and what additional projects I've taken on. \n"
   ]
  }
 ],
 "metadata": {
  "kernelspec": {
   "display_name": "Python 3",
   "language": "python",
   "name": "python3"
  },
  "language_info": {
   "codemirror_mode": {
    "name": "ipython",
    "version": 3
   },
   "file_extension": ".py",
   "mimetype": "text/x-python",
   "name": "python",
   "nbconvert_exporter": "python",
   "pygments_lexer": "ipython3",
   "version": "3.8.0"
  }
 },
 "nbformat": 4,
 "nbformat_minor": 5
}
